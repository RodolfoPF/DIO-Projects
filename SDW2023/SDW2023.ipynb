{
 "cells": [
  {
   "cell_type": "code",
   "execution_count": 6,
   "metadata": {},
   "outputs": [
    {
     "name": "stdout",
     "output_type": "stream",
     "text": [
      "Caro(a) Ana, temos uma mensagem de promoção para você:\n",
      "Aproveite nossas ofertas em diversos produtos!\n",
      "\n",
      "\n",
      "Caro(a) Pedro, temos uma mensagem de promoção para você:\n",
      "Aproveite nossas ofertas em diversos produtos!\n",
      "\n",
      "\n",
      "Caro(a) Julia, temos uma mensagem de promoção para você:\n",
      "Aproveite nossas ofertas em diversos produtos!\n",
      "\n",
      "\n",
      "Caro(a) Lucas, temos uma mensagem de promoção para você:\n",
      "Upgrade seu computador com nossas ofertas de hardware! Placas de vídeo, SSDs e mais.\n",
      "\n",
      "\n",
      "Caro(a) Isabela, temos uma mensagem de promoção para você:\n",
      "Aproveite nossas ofertas em diversos produtos!\n",
      "\n",
      "\n",
      "Caro(a) Rafael, temos uma mensagem de promoção para você:\n",
      "Promoção para esportistas! Equipamentos esportivos com descontos especiais.\n",
      "\n",
      "\n",
      "Caro(a) Fernanda, temos uma mensagem de promoção para você:\n",
      "Volta às aulas com tudo! Material educativo com descontos para estudantes e professores.\n",
      "\n",
      "\n",
      "Caro(a) Gustavo, temos uma mensagem de promoção para você:\n",
      "Aproveite nossas ofertas em diversos produtos!\n",
      "\n",
      "\n",
      "Caro(a) Mariana, temos uma mensagem de promoção para você:\n",
      "Músico ou aspirante? Encontre seu instrumento ideal com descontos em nossa promoção.\n",
      "\n",
      "\n",
      "Caro(a) Carlos, temos uma mensagem de promoção para você:\n",
      "Aproveite nossas ofertas em diversos produtos!\n",
      "\n",
      "\n"
     ]
    }
   ],
   "source": [
    "# Extraindo arquivos\n",
    "\n",
    "import json\n",
    "\n",
    "# Carregar o JSON\n",
    "with open('People.json', 'r') as file:\n",
    "    data = json.load(file)\n",
    "\n",
    "# Dicionário de promoções\n",
    "promotions = {\n",
    "    \"Roupas e acessórios\": \"Promoção especial em moda primavera! Até 50% de desconto em roupas e acessórios.\",\n",
    "    \"Eletrônicos\": \"Não perca nossas ofertas em eletrônicos! Smartphones, laptops e muito mais com descontos incríveis.\",\n",
    "    \"Livros e artigos científicos\": \"Amante da leitura? Temos uma seleção exclusiva de livros e artigos científicos com preços imperdíveis.\",\n",
    "    \"Hardware de computador\": \"Upgrade seu computador com nossas ofertas de hardware! Placas de vídeo, SSDs e mais.\",\n",
    "    \"Artigos esportivos\": \"Promoção para esportistas! Equipamentos esportivos com descontos especiais.\",\n",
    "    \"Material educativo\": \"Volta às aulas com tudo! Material educativo com descontos para estudantes e professores.\",\n",
    "    \"Decoração de interiores\": \"Renove seu lar com nossas promoções de decoração de interiores. Estilo e conforto para sua casa.\",\n",
    "    \"Instrumentos musicais\": \"Músico ou aspirante? Encontre seu instrumento ideal com descontos em nossa promoção.\",\n",
    "    \"Utensílios de cozinha\": \"Chef de cozinha? Confira nossos utensílios de cozinha em oferta e aprimore suas habilidades culinárias.\"\n",
    "}\n",
    "\n",
    "# Função para retornar a mensagem de promoção\n",
    "def get_promotion(busca_compras):\n",
    "    return promotions.get(busca_compras, \"Aproveite nossas ofertas em diversos produtos!\")\n",
    "\n",
    "# Loop através dos dados\n",
    "for person in data:\n",
    "    nome = person[\"nome\"]\n",
    "    busca_compras = person[\"busca_compras\"]\n",
    "    mensagem_promocao = get_promotion(busca_compras)\n",
    "    \n",
    "    print(f\"Caro(a) {nome}, temos uma mensagem de promoção para você:\")\n",
    "    print(mensagem_promocao)\n",
    "    print(\"\\n\")\n"
   ]
  }
 ],
 "metadata": {
  "kernelspec": {
   "display_name": "Python 3",
   "language": "python",
   "name": "python3"
  },
  "language_info": {
   "codemirror_mode": {
    "name": "ipython",
    "version": 3
   },
   "file_extension": ".py",
   "mimetype": "text/x-python",
   "name": "python",
   "nbconvert_exporter": "python",
   "pygments_lexer": "ipython3",
   "version": "3.10.11"
  },
  "orig_nbformat": 4
 },
 "nbformat": 4,
 "nbformat_minor": 2
}
